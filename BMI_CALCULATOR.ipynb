{
  "nbformat": 4,
  "nbformat_minor": 0,
  "metadata": {
    "colab": {
      "provenance": []
    },
    "kernelspec": {
      "name": "python3",
      "display_name": "Python 3"
    },
    "language_info": {
      "name": "python"
    }
  },
  "cells": [
    {
      "cell_type": "markdown",
      "source": [
        "BMI CALCULATOR"
      ],
      "metadata": {
        "id": "7b4CHkSzX1Bq"
      }
    },
    {
      "cell_type": "code",
      "source": [
        "height = float(input(\"Enter your height in cm: \"))\n",
        "weight = float(input(\"Enter your weight in kg: \"))\n",
        "\n",
        "BMI = weight / (height/100)**2\n",
        "\n",
        "print(f\"You BMI is {BMI}\")\n",
        "\n",
        "if BMI <= 18.4:\n",
        "    print(\"You are underweight.\")\n",
        "elif BMI <= 24.9:\n",
        "    print(\"You are healthy.\")\n",
        "elif BMI <= 29.9:\n",
        "    print(\"You are over weight.\")\n",
        "elif BMI <= 34.9:\n",
        "    print(\"You are severely over weight.\")\n",
        "elif BMI <= 39.9:\n",
        "    print(\"You are obese.\")\n",
        "else:\n",
        "    print(\"You are severely obese.\")"
      ],
      "metadata": {
        "id": "0OsdVDYEX1WZ"
      },
      "execution_count": null,
      "outputs": []
    }
  ]
}