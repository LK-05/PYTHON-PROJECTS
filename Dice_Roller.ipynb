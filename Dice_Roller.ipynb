{
  "nbformat": 4,
  "nbformat_minor": 0,
  "metadata": {
    "colab": {
      "provenance": []
    },
    "kernelspec": {
      "name": "python3",
      "display_name": "Python 3"
    },
    "language_info": {
      "name": "python"
    }
  },
  "cells": [
    {
      "cell_type": "markdown",
      "source": [
        "Dice Roller"
      ],
      "metadata": {
        "id": "HIzcDbeqYFVv"
      }
    },
    {
      "cell_type": "code",
      "source": [
        "# Importing randome module\n",
        "import random\n",
        "\n",
        "# Initiating an while loop to keep the program executing\n",
        "while True:\n",
        "    print(\"Rolling Dice...\")\n",
        "\n",
        "    # Using random.randint(1,6) to generate a random value between 1 & 6\n",
        "    print(f\"The value is \", random.randint(1,6))\n",
        "\n",
        "    # Asking user to roll the dice again or quit\n",
        "    repeat = input(\"Roll Dice again? 'y' for yes & 'n' for no: \")\n",
        "\n",
        "    # If the user answers negative the loop will break and program execution stops otherwise the program will continue executing\n",
        "    if repeat == 'n':\n",
        "        break"
      ],
      "metadata": {
        "id": "2K-T0E2ZYFeF"
      },
      "execution_count": null,
      "outputs": []
    }
  ]
}