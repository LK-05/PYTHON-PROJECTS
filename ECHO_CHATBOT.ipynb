{
  "nbformat": 4,
  "nbformat_minor": 0,
  "metadata": {
    "colab": {
      "provenance": []
    },
    "kernelspec": {
      "name": "python3",
      "display_name": "Python 3"
    },
    "language_info": {
      "name": "python"
    }
  },
  "cells": [
    {
      "cell_type": "markdown",
      "source": [
        "ECHO CHATBOT"
      ],
      "metadata": {
        "id": "3yun_QzdXZQJ"
      }
    },
    {
      "cell_type": "code",
      "source": [
        "print(\"Let's talk! Enter 'quit' to exit...\")\n",
        "\n",
        "while True:\n",
        "    user = input(\"You: \")\n",
        "    print(f\"Bot: {user}\")\n",
        "\n",
        "    if user == 'quit':\n",
        "        break"
      ],
      "metadata": {
        "id": "XFkNzC0QXZk0"
      },
      "execution_count": null,
      "outputs": []
    }
  ]
}