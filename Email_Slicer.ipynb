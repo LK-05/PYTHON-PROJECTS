{
  "cells": [
    {
      "cell_type": "markdown",
      "metadata": {
        "id": "90H_XF-zL0P6"
      },
      "source": [
        "Email Slicer is just a simple tool that will take an email address as input and slice it to produce the username and the domain associated with it. The email must be divided into two strings by using ‘@’ as the separator."
      ]
    },
    {
      "cell_type": "code",
      "execution_count": null,
      "metadata": {
        "id": "l5MPZbHlL8PO"
      },
      "outputs": [],
      "source": [
        "email = input(\"Enter Your Email: \").strip()\n",
        "\n",
        "username = email[:email.index('@')]\n",
        "domain = email[email.index('@') + 1:]\n",
        "\n",
        "print(f\"Your username is {username} & domain is {domain}\")"
      ]
    },
    {
      "cell_type": "code",
      "source": [],
      "metadata": {
        "id": "9c9y2tAnf-8a"
      },
      "execution_count": null,
      "outputs": []
    }
  ],
  "metadata": {
    "colab": {
      "provenance": []
    },
    "kernelspec": {
      "display_name": "Python 3",
      "name": "python3"
    },
    "language_info": {
      "name": "python"
    }
  },
  "nbformat": 4,
  "nbformat_minor": 0
}