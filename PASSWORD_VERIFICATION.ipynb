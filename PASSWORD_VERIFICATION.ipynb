{
  "nbformat": 4,
  "nbformat_minor": 0,
  "metadata": {
    "colab": {
      "provenance": []
    },
    "kernelspec": {
      "name": "python3",
      "display_name": "Python 3"
    },
    "language_info": {
      "name": "python"
    }
  },
  "cells": [
    {
      "cell_type": "markdown",
      "source": [
        "PASSWORD VERIFICATION"
      ],
      "metadata": {
        "id": "0J-ZlpV0ZOTw"
      }
    },
    {
      "cell_type": "code",
      "execution_count": null,
      "metadata": {
        "id": "w5QeNgQvZMaw"
      },
      "outputs": [],
      "source": [
        "import getpass"
      ]
    },
    {
      "cell_type": "code",
      "source": [
        "database = {\"lk5\": \"AI&ML\", \"RAYA_2\": \"RAYARAYS\"}\n",
        "username = input(\"Enter Your Username : \")\n",
        "password = getpass.getpass(\"Enter Your Password : \")\n",
        "for key in database.keys():\n",
        "    if username == key:\n",
        "        while password != database.get(key):\n",
        "            password = getpass.getpass(\"Re-enter Your Password : \")\n",
        "        break\n",
        "print(\"User Verified\")"
      ],
      "metadata": {
        "id": "u_huUrG3ZPMw"
      },
      "execution_count": null,
      "outputs": []
    }
  ]
}