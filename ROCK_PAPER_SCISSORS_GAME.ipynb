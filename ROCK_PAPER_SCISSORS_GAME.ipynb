{
  "nbformat": 4,
  "nbformat_minor": 0,
  "metadata": {
    "colab": {
      "provenance": []
    },
    "kernelspec": {
      "name": "python3",
      "display_name": "Python 3"
    },
    "language_info": {
      "name": "python"
    }
  },
  "cells": [
    {
      "cell_type": "markdown",
      "source": [
        "ROCK PAPER SCISSORS GAME\n"
      ],
      "metadata": {
        "id": "_rVHf7ziY0nA"
      }
    },
    {
      "cell_type": "code",
      "execution_count": null,
      "metadata": {
        "id": "IeQSppPfYVXU"
      },
      "outputs": [],
      "source": [
        "import random\n",
        "\n",
        "def rock_paper_scissors():\n",
        "    player = input(\"What is your choice - 'r' for rock, 's' for scissor, 'p' for paper: \")\n",
        "    choices = ['r','s','p']\n",
        "    opponent = random.choice(choices)\n",
        "\n",
        "    if player == opponent:\n",
        "        return print(f\"Its a Tie! Choice is {opponent}\")\n",
        "\n",
        "    if check_win(player, opponent):\n",
        "        return print(f\"Yay! you won! Choice is {opponent}\")\n",
        "\n",
        "    if check_win(player, opponent) != True:\n",
        "        return print(f\"You lost! Choice is {opponent}\")\n",
        "\n",
        "\n",
        "def check_win(user, computer):\n",
        "    if (user == 'r' and computer == 's') or (user == 's' and computer == 'p') or (user == 'p' and computer == 'r'):\n",
        "        return True\n",
        "\n",
        "rock_paper_scissors()"
      ]
    },
    {
      "cell_type": "code",
      "source": [
        "import random\n",
        "\n",
        "def player(prev_play, opponent_history=[]):\n",
        "    # If it's the first game, play randomly\n",
        "    if prev_play == \"\":\n",
        "        return random.choice([\"R\", \"P\", \"S\"])\n",
        "\n",
        "    # Let's keep track of opponent's previous moves\n",
        "    opponent_history.append(prev_play)\n",
        "\n",
        "    # Implement your strategies here\n",
        "    # You can analyze the opponent's history to make decisions\n",
        "\n",
        "    # For example, you can implement a simple counter-strategy:\n",
        "    counter_moves = {\"R\": \"P\", \"P\": \"S\", \"S\": \"R\"}\n",
        "    return counter_moves[prev_play]\n",
        "\n",
        "# Test your implementation with the provided play function\n",
        "def play(player1, player2, num_games, verbose=False):\n",
        "    player1_wins = 0\n",
        "    player2_wins = 0\n",
        "    for _ in range(num_games):\n",
        "        player1_history = []\n",
        "        player2_history = []\n",
        "\n",
        "        for _ in range(2):\n",
        "            p1_move = player1(player2_history[-1] if player2_history else \"\", player2_history)\n",
        "\n",
        "            # Allow user input for player2's move\n",
        "            p2_move = input(\"Enter your move (R/P/S): \").upper()\n",
        "            while p2_move not in [\"R\", \"P\", \"S\"]:\n",
        "                print(\"Invalid input. Please enter R, P, or S.\")\n",
        "                p2_move = input(\"Enter your move (R/P/S): \").upper()\n",
        "\n",
        "            player1_history.append(p1_move)\n",
        "            player2_history.append(p2_move)\n",
        "\n",
        "        if p1_move == p2_move:\n",
        "            result = \"tie\"\n",
        "        elif (p1_move == \"R\" and p2_move == \"S\") or (p1_move == \"S\" and p2_move == \"P\") or (p1_move == \"P\" and p2_move == \"R\"):\n",
        "            result = \"player1\"\n",
        "            player1_wins += 1\n",
        "        else:\n",
        "            result = \"player2\"\n",
        "            player2_wins += 1\n",
        "\n",
        "        if verbose:\n",
        "            print(f\"Player 1: {p1_move} | Player 2: {p2_move} | Winner: {result}\")\n",
        "\n",
        "    player1_win_rate = player1_wins / num_games * 100\n",
        "    player2_win_rate = player2_wins / num_games * 100\n",
        "\n",
        "    print(f\"Player 1 win rate: {player1_win_rate:.2f}%\")\n",
        "    print(f\"Player 2 win rate: {player2_win_rate:.2f}%\")\n",
        "\n",
        "# Define the opponent players\n",
        "def quincy(prev_play, opponent_history=[]):\n",
        "    return \"R\"\n",
        "\n",
        "def abbey(prev_play, opponent_history=[]):\n",
        "    return \"P\"\n",
        "\n",
        "def kris(prev_play, opponent_history=[]):\n",
        "    return \"S\"\n",
        "\n",
        "def mrugesh(prev_play, opponent_history=[]):\n",
        "    return random.choice([\"R\", \"P\", \"S\"])\n",
        "\n",
        "# Test your player against the opponents\n",
        "play(player, quincy, 5, verbose=True)  # You can adjust the number of games\n"
      ],
      "metadata": {
        "id": "k6rrcQ-ZWPlE"
      },
      "execution_count": null,
      "outputs": []
    }
  ]
}