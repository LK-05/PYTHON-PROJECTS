{
  "nbformat": 4,
  "nbformat_minor": 0,
  "metadata": {
    "colab": {
      "provenance": []
    },
    "kernelspec": {
      "name": "python3",
      "display_name": "Python 3"
    },
    "language_info": {
      "name": "python"
    }
  },
  "cells": [
    {
      "cell_type": "markdown",
      "source": [
        "ROCK PAPER SCISSORS GAME\n"
      ],
      "metadata": {
        "id": "_rVHf7ziY0nA"
      }
    },
    {
      "cell_type": "code",
      "execution_count": null,
      "metadata": {
        "id": "IeQSppPfYVXU"
      },
      "outputs": [],
      "source": [
        "import random\n",
        "\n",
        "def rock_paper_scissors():\n",
        "    player = input(\"What is your choice - 'r' for rock, 's' for scissor, 'p' for paper: \")\n",
        "    choices = ['r','s','p']\n",
        "    opponent = random.choice(choices)\n",
        "\n",
        "    if player == opponent:\n",
        "        return print(f\"Its a Tie! Choice is {opponent}\")\n",
        "\n",
        "    if check_win(player, opponent):\n",
        "        return print(f\"Yay! you won! Choice is {opponent}\")\n",
        "\n",
        "    if check_win(player, opponent) != True:\n",
        "        return print(f\"You lost! Choice is {opponent}\")\n",
        "\n",
        "\n",
        "def check_win(user, computer):\n",
        "    if (user == 'r' and computer == 's') or (user == 's' and computer == 'p') or (user == 'p' and computer == 'r'):\n",
        "        return True\n",
        "\n",
        "rock_paper_scissors()"
      ]
    }
  ]
}