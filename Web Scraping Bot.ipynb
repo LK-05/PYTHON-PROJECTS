{
  "nbformat": 4,
  "nbformat_minor": 0,
  "metadata": {
    "colab": {
      "provenance": []
    },
    "kernelspec": {
      "name": "python3",
      "display_name": "Python 3"
    },
    "language_info": {
      "name": "python"
    }
  },
  "cells": [
    {
      "cell_type": "code",
      "source": [
        "import requests\n",
        "from bs4 import BeautifulSoup\n",
        "\n",
        "# URL of the website you want to scrape\n",
        "url = 'http://quotes.toscrape.com'\n",
        "\n",
        "# Send an HTTP GET request to the URL\n",
        "response = requests.get(url)\n",
        "\n",
        "# Check if the request was successful (status code 200)\n",
        "if response.status_code == 200:\n",
        "    # Parse the HTML content of the page using BeautifulSoup\n",
        "    soup = BeautifulSoup(response.text, 'html.parser')\n",
        "\n",
        "    # Extract data from the page\n",
        "    quotes = soup.find_all('span', class_='text')\n",
        "    authors = soup.find_all('small', class_='author')\n",
        "    tags = soup.find_all('div', class_='tags')\n",
        "\n",
        "    # Print the scraped data\n",
        "    for i in range(len(quotes)):\n",
        "        print(f\"Quote: {quotes[i].text}\")\n",
        "        print(f\"Author: {authors[i].text}\")\n",
        "        tag_list = tags[i].find_all('a', class_='tag')\n",
        "        tag_names = [tag.text for tag in tag_list]\n",
        "        print(f\"Tags: {', '.join(tag_names)}\")\n",
        "        print(\"\\n\")\n",
        "else:\n",
        "    print(f\"Failed to retrieve the web page. Status code: {response.status_code}\")\n"
      ],
      "metadata": {
        "colab": {
          "base_uri": "https://localhost:8080/"
        },
        "id": "I5PEPWnD7T1b",
        "outputId": "bc833dc8-b14c-4062-b11d-0eb12f577535"
      },
      "execution_count": 1,
      "outputs": [
        {
          "output_type": "stream",
          "name": "stdout",
          "text": [
            "Quote: “The world as we have created it is a process of our thinking. It cannot be changed without changing our thinking.”\n",
            "Author: Albert Einstein\n",
            "Tags: change, deep-thoughts, thinking, world\n",
            "\n",
            "\n",
            "Quote: “It is our choices, Harry, that show what we truly are, far more than our abilities.”\n",
            "Author: J.K. Rowling\n",
            "Tags: abilities, choices\n",
            "\n",
            "\n",
            "Quote: “There are only two ways to live your life. One is as though nothing is a miracle. The other is as though everything is a miracle.”\n",
            "Author: Albert Einstein\n",
            "Tags: inspirational, life, live, miracle, miracles\n",
            "\n",
            "\n",
            "Quote: “The person, be it gentleman or lady, who has not pleasure in a good novel, must be intolerably stupid.”\n",
            "Author: Jane Austen\n",
            "Tags: aliteracy, books, classic, humor\n",
            "\n",
            "\n",
            "Quote: “Imperfection is beauty, madness is genius and it's better to be absolutely ridiculous than absolutely boring.”\n",
            "Author: Marilyn Monroe\n",
            "Tags: be-yourself, inspirational\n",
            "\n",
            "\n",
            "Quote: “Try not to become a man of success. Rather become a man of value.”\n",
            "Author: Albert Einstein\n",
            "Tags: adulthood, success, value\n",
            "\n",
            "\n",
            "Quote: “It is better to be hated for what you are than to be loved for what you are not.”\n",
            "Author: André Gide\n",
            "Tags: life, love\n",
            "\n",
            "\n",
            "Quote: “I have not failed. I've just found 10,000 ways that won't work.”\n",
            "Author: Thomas A. Edison\n",
            "Tags: edison, failure, inspirational, paraphrased\n",
            "\n",
            "\n",
            "Quote: “A woman is like a tea bag; you never know how strong it is until it's in hot water.”\n",
            "Author: Eleanor Roosevelt\n",
            "Tags: misattributed-eleanor-roosevelt\n",
            "\n",
            "\n",
            "Quote: “A day without sunshine is like, you know, night.”\n",
            "Author: Steve Martin\n",
            "Tags: humor, obvious, simile\n",
            "\n",
            "\n"
          ]
        }
      ]
    }
  ]
}